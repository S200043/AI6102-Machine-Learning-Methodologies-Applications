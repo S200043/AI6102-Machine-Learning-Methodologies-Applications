{
 "cells": [
  {
   "cell_type": "markdown",
   "metadata": {},
   "source": [
    "# AI6102 Machine Learning Methodologies & Applications: Assignment 1"
   ]
  },
  {
   "cell_type": "code",
   "execution_count": 74,
   "metadata": {},
   "outputs": [],
   "source": [
    "from sklearn.datasets import load_svmlight_files\n",
    "from sklearn.model_selection import KFold\n",
    "from sklearn.svm import LinearSVC\n",
    "from sklearn import datasets\n",
    "import numpy as np\n",
    "import pandas as pd\n",
    "import sklearn as sk\n",
    "np.set_printoptions(linewidth = 140)\n",
    "\n",
    "C = [0.01, 0.1 , 1.0, 10, 100]\n",
    "train_X, train_y, test_X, test_y  = sk.datasets.load_svmlight_files(['a5a', 'a5a.t'])"
   ]
  },
  {
   "cell_type": "code",
   "execution_count": 80,
   "metadata": {},
   "outputs": [
    {
     "name": "stdout",
     "output_type": "stream",
     "text": [
      "C: 0.01, Scores: [0.8358278765201123,  0.8372310570626754,  0.8456501403180543], Average: 0.8395696913002807,  n_iter_: 14\n",
      "C: 0.1,  Scores: [0.8400374181478016,  0.8367633302151544,  0.8507951356407858], Average: 0.8425319613345806,  n_iter_: 45\n",
      "C: 1.0,  Scores: [0.8362956033676333,  0.8358278765201123,  0.8451824134705332], Average: 0.8391019644527596,  n_iter_: 341\n",
      "C: 10,   Scores: [0.8358278765201123,  0.8348924228250701,  0.8465855940130963], Average: 0.8391019644527596,  n_iter_: 1000\n",
      "C: 100,  Scores: [0.8086997193638915,   0.803086997193639,  0.7801683816651076], Average: 0.7973183660742128,  n_iter_: 1000\n",
      "\n",
      "C: 0.01 Test Set Accuracy: 0.8456419474509504\n",
      "C: 0.1 Test Set Accuracy: 0.8451065131755077\n",
      "C: 1.0 Test Set Accuracy: 0.8415879450797414\n",
      "C: 10 Test Set Accuracy: 0.8407465483611887\n",
      "C: 100 Test Set Accuracy: 0.7684629211764256\n"
     ]
    }
   ],
   "source": [
    "def kfLSVC(X, y, C = 1, n_splits = 3, max_iter = 1000):\n",
    "  svc = sk.svm.LinearSVC(C = C, max_iter = max_iter)\n",
    "  kf = sk.model_selection.KFold(n_splits)\n",
    "  scores = []\n",
    "  for cv_train, cv_test in kf.split(X):\n",
    "    svc.fit(X[cv_train], y[cv_train])\n",
    "    scores.append(svc.score(X[cv_test], y[cv_test]))\n",
    "  return svc, scores\n",
    "\n",
    "svc_set = []\n",
    "scores = []\n",
    "for C_i in C:\n",
    "  output = kfLSVC(train_X, train_y, C_i)\n",
    "  svc_set.append(output[0])\n",
    "  scores.append(output[1])\n",
    "  print(\"C: %-5s Scores: [%-20s%20s%20s], Average: %-20s n_iter_: %s\" % (str(C_i)+',', str(output[1][0])+',', str(output[1][1])+',', str(output[1][2]), str(np.average(output[1]))+',', output[0].n_iter_))\n",
    "\n",
    "print('')\n",
    "\n",
    "for i, svc in enumerate(svc_set):\n",
    "  print(\"C: \" + str(C[i]) + \" TScore: \" + str(svc.score(test_X, test_y)))"
   ]
  },
  {
   "cell_type": "code",
   "execution_count": 87,
   "metadata": {},
   "outputs": [
    {
     "name": "stdout",
     "output_type": "stream",
     "text": [
      "C: 0.1,  Scores: [0.8400374181478016,  0.8367633302151544,  0.8507951356407858], Average: 0.8425319613345806,  n_iter_: 45\n",
      "C: 0.1,  TScore:  0.8451065131755077  \n"
     ]
    }
   ],
   "source": [
    "idx = 1\n",
    "final_svc, final_svc_score = kfLSVC(train_X, train_y, C[idx])\n",
    "print(\"C: %-5s Scores: [%-20s%20s%20s], Average: %-20s n_iter_: %s\" % (str(C[idx])+',', str(final_svc_score[0])+',', str(final_svc_score[1])+',', str(final_svc_score[2]), str(np.average(final_svc_score))+',', final_svc.n_iter_))\n",
    "print(\"C: %-5s TScore:  %-20s\" % (str(C[idx])+',', final_svc.score(test_X, test_y)))"
   ]
  },
  {
   "cell_type": "code",
   "execution_count": null,
   "metadata": {},
   "outputs": [],
   "source": [
    "for svc in svc_set:\n",
    "  print(svc.coef_)\n",
    "  print(svc.intercept_)\n",
    "  print(svc.C)"
   ]
  }
 ],
 "metadata": {
  "kernelspec": {
   "display_name": "Python 3",
   "language": "python",
   "name": "python3"
  },
  "language_info": {
   "codemirror_mode": {
    "name": "ipython",
    "version": 3
   },
   "file_extension": ".py",
   "mimetype": "text/x-python",
   "name": "python",
   "nbconvert_exporter": "python",
   "pygments_lexer": "ipython3",
   "version": "3.8.5"
  }
 },
 "nbformat": 4,
 "nbformat_minor": 4
}
